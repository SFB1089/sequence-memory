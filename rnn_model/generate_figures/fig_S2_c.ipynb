{
 "cells": [
  {
   "cell_type": "code",
   "execution_count": 1,
   "id": "8abc81d3",
   "metadata": {},
   "outputs": [],
   "source": [
    "import matplotlib\n",
    "from matplotlib.colors import ListedColormap\n",
    "\n",
    "from matplotlib import cm\n",
    "import os, sys\n",
    "import numpy as np\n",
    "import matplotlib as mpl\n",
    "import matplotlib.pyplot as plt\n",
    "%matplotlib inline\n",
    "\n",
    "sys.path.insert(0,'..')\n",
    "from analysis.analysis_utils import *\n",
    "pltcolors, pltcolors_alt = steffiscolours()\n",
    "\n"
   ]
  },
  {
   "cell_type": "markdown",
   "id": "4c51292f",
   "metadata": {},
   "source": [
    "### Simulation"
   ]
  },
  {
   "cell_type": "code",
   "execution_count": 2,
   "id": "33eca0b3",
   "metadata": {},
   "outputs": [],
   "source": [
    "# Generate plot through simulation. Borders can also be calculated analytically\n",
    "# so there likely is a more efficient way to generate this plot\n",
    "\n",
    "dt = .1 # time step in ms\n",
    "stim_len = 200 # stimulus time in ms\n",
    "trial_len = 6000 # simulation time in ms\n",
    "n_stim = 4 # number of stimuli\n",
    "\n",
    "t = np.arange(0,trial_len, dt)\n",
    "orders = np.array([[3,1,2],[1,3,2],[3,2,1],[2,3,1],[1,2,3],[2,1,3]])\n",
    "freqs = np.arange(0.1,10,0.01) #frequencies\n",
    "isis = np.arange(0,300,1) #interstimulus intervals\n",
    "result = np.zeros((len(isis),len(freqs)))\n",
    "add_offs = 0\n",
    "\n",
    "for x, isi in enumerate(isis):\n",
    "    for y, freq in enumerate(freqs):\n",
    "\n",
    "        delay_start = int((stim_len*n_stim+isi*(n_stim-1))/dt)\n",
    "        delay_end =delay_start + int(1000/(freq*dt))\n",
    "        sine = np.sin((t/1000)*freq*np.pi*2)\n",
    "        pred_current = np.zeros((n_stim ,len(t)))\n",
    "        start = 0\n",
    "        for i in range(n_stim):\n",
    "            pred_current[i,start:]=sine[:len(pred_current[i,start:])]\n",
    "            start += int((stim_len+isi+add_offs*i)/dt)\n",
    "        phase_order = np.argsort(np.argmax(pred_current[:,delay_start:delay_end], axis = 1))\n",
    "        while phase_order[0]!=0:\n",
    "            phase_order = np.roll(phase_order, 1)\n",
    "        phase_order = phase_order[1:]\n",
    "        index = np.where((phase_order==orders).all(axis=1))\n",
    "        result[x,y] = index[0][0]"
   ]
  },
  {
   "cell_type": "markdown",
   "id": "e611fde9",
   "metadata": {},
   "source": [
    "### Create plot"
   ]
  },
  {
   "cell_type": "code",
   "execution_count": 3,
   "id": "ae95a5b2",
   "metadata": {},
   "outputs": [
    {
     "name": "stdout",
     "output_type": "stream",
     "text": [
      "[0.5 1.5 2.5 3.5 4.5]\n"
     ]
    },
    {
     "name": "stderr",
     "output_type": "stream",
     "text": [
      "/opt/homebrew/Caskroom/miniforge/base/envs/PhaseC/lib/python3.10/site-packages/matplotlib/text.py:1223: FutureWarning: elementwise comparison failed; returning scalar instead, but in the future will perform elementwise comparison\n",
      "  if s != self._text:\n"
     ]
    },
    {
     "data": {
      "image/png": "[encoded data removed]",
      "text/plain": [
       "<Figure size 1000x300 with 3 Axes>"
      ]
     },
     "metadata": {},
     "output_type": "display_data"
    }
   ],
   "source": [
    "col_dict={1:pltcolors_alt[1],\n",
    "          2:pltcolors_alt[3],\n",
    "          3:pltcolors_alt[0],\n",
    "          4:pltcolors_alt[2]}\n",
    "# create a colormap\n",
    "cm = ListedColormap([col_dict[x] for x in col_dict.keys()])\n",
    "\n",
    "#  description of each category\n",
    "labels = np.array([orders[0],orders[2],orders[4],orders[5]])\n",
    "len_lab = len(labels)\n",
    "\n",
    "\n",
    "norm_bins = np.sort([*col_dict.keys()]) + 0.5\n",
    "norm_bins = np.insert(norm_bins, 0, np.min(norm_bins) - 1.0)\n",
    "print(norm_bins)\n",
    "\n",
    "norm = matplotlib.colors.BoundaryNorm(norm_bins, len_lab, clip=True)\n",
    "fmt = matplotlib.ticker.FuncFormatter(lambda x, pos: labels[norm(x)])\n",
    "\n",
    "# Plot our figure\n",
    "fig = plt.figure(figsize = (10,3))\n",
    "gs = fig.add_gridspec(1, 3, width_ratios=[3.5, 0.5,1.5])  # , left=0, right=1,\n",
    "\n",
    "res4 = np.copy(result)\n",
    "res4+=.5\n",
    "res4[result>1]-=1\n",
    "res4[result>2]-=1\n",
    "ax=[[],[]]\n",
    "ax[0] = fig.add_subplot(gs[0])\n",
    "ax[1] = fig.add_subplot(gs[2])\n",
    "\n",
    "im = ax[0].imshow(res4, cmap=cm, norm=norm,aspect='auto')\n",
    "\n",
    "ax[0].set_xticks(np.arange(len(freqs))[::100])\n",
    "ax[0].set_xticklabels([\"{:.0f}\".format(fr) for fr in freqs[::100]])\n",
    "ax[0].set_xlabel(\"freq (Hz)\")\n",
    "ax[0].set_yticks(np.arange(len(isis))[::100])\n",
    "ax[0].set_yticklabels([\"{:.0f}\".format(isi+200) for isi in isis[::100]])\n",
    "ax[0].set_ylabel(\"ISI (ms)\")\n",
    "ax[1].axis('off')\n",
    "diff = norm_bins[1:] - norm_bins[:-1]\n",
    "tickz = norm_bins[:-1] + diff / 2\n",
    "cb = plt.colorbar(im, format=fmt, ticks=tickz,fraction=0.024, pad=0.04,ax = ax[0])\n",
    "fig.tight_layout()\n",
    "\n",
    "\n",
    "plt.show()\n"
   ]
  }
 ],
 "metadata": {
  "kernelspec": {
   "display_name": "Python 3 (ipykernel)",
   "language": "python",
   "name": "python3"
  },
  "language_info": {
   "codemirror_mode": {
    "name": "ipython",
    "version": 3
   },
   "file_extension": ".py",
   "mimetype": "text/x-python",
   "name": "python",
   "nbconvert_exporter": "python",
   "pygments_lexer": "ipython3",
   "version": "3.10.6"
  }
 },
 "nbformat": 4,
 "nbformat_minor": 5
}
