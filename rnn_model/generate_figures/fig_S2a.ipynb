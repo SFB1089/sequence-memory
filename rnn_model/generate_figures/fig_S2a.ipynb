{
 "cells": [
  {
   "cell_type": "code",
   "execution_count": null,
   "id": "96af8460",
   "metadata": {},
   "outputs": [],
   "source": [
    "import os, sys\n",
    "import numpy as np\n",
    "import scipy\n",
    "import matplotlib as mpl\n",
    "import matplotlib.pyplot as plt\n",
    "%matplotlib inline\n",
    "\n",
    "sys.path.insert(0,'..')\n",
    "from analysis.analysis_utils import *\n"
   ]
  },
  {
   "cell_type": "markdown",
   "id": "1e98073f",
   "metadata": {},
   "source": [
    "### extract data from trained models"
   ]
  },
  {
   "cell_type": "code",
   "execution_count": null,
   "id": "f16c5064",
   "metadata": {},
   "outputs": [],
   "source": [
    "mod_dir = os.getcwd()+\"/../models/sweep_main\"\n",
    "files_and_directories = os.listdir(mod_dir)\n",
    "\n",
    "\n",
    "freqs = np.array([1.5,2.04,2.75,3.73])\n",
    "training_dur = [[] for i in range(4)]\n",
    "for findex, fname in enumerate(files_and_directories):\n",
    "    \n",
    "    \n",
    "    \"\"\"Load Model\"\"\"\n",
    "    model_dir = os.path.join(mod_dir, fname)\n",
    "    #et = RNN()\n",
    "    var = scipy.io.loadmat(model_dir)\n",
    "    f=var['lossF'][0][0]\n",
    "    print(\"FREQUENCY = \" + str(f))\n",
    "    ind=np.argwhere(f==freqs)[0][0]\n",
    "    print(ind)\n",
    "    dur=len(var['train_perf_list'])\n",
    "\n",
    "    print(\"duration = \" + str(dur))\n",
    "\n",
    "\n",
    "    training_dur[ind].append(dur)"
   ]
  },
  {
   "cell_type": "markdown",
   "id": "7c714691",
   "metadata": {},
   "source": [
    "### Calculate means and standard errors"
   ]
  },
  {
   "cell_type": "code",
   "execution_count": null,
   "id": "b35987b1",
   "metadata": {},
   "outputs": [],
   "source": [
    "mean_tr = np.mean(np.array(training_dur)*100, axis=1)\n",
    "sem_tr = np.std(np.array(training_dur)*100, axis=1)/np.sqrt(10)"
   ]
  },
  {
   "cell_type": "markdown",
   "id": "d134b353",
   "metadata": {},
   "source": [
    "### Make plot"
   ]
  },
  {
   "cell_type": "code",
   "execution_count": null,
   "id": "fb34f208",
   "metadata": {},
   "outputs": [],
   "source": [
    "pltcolors, pltcolors_alt = steffiscolours()\n",
    "\n",
    "with mpl.rc_context(fname=\"matplotlibrc\"):\n",
    "    plt.subplots(figsize=(2, 2))\n",
    "\n",
    "\n",
    "    ax1 = plt.subplot(111, facecolor=\"white\")  # , projection='polar')\n",
    "\n",
    "    ax1.bar(np.arange(4),mean_tr, color=pltcolors_alt[1],\n",
    "            yerr=sem_tr, \n",
    "            align='edge',  ecolor=pltcolors_alt[-1], capsize=4, label =['Freq: '+ str(freqs[i]) for i in range(4)])\n",
    "   \n",
    "    ax1.set_ylim(0)#, 35)\n",
    "    #ax1.set_xlim(0)#, 35)\n",
    "    ax1.set_yticks(np.arange(0,500000,100000))\n",
    "    labs = [str(i) + r\"$*10^5$\" for i in np.arange(0,5)]\n",
    "    labs[0]=str(0)\n",
    "    ax1.set_yticklabels(labs)\n",
    "\n",
    "\n",
    "\n",
    "    ax1.set_xticks(np.arange(4)+0.5)\n",
    "    plt.xticks(rotation=35)\n",
    "\n",
    "    ax1.set_xticklabels([str(fr) for fr in freqs])\n",
    "    ax1.set_ylabel(\"number of batches\")\n",
    "    ax1.set_xlabel(\"frequency (Hz)\")\n",
    "\n",
    "\n"
   ]
  },
  {
   "cell_type": "code",
   "execution_count": null,
   "id": "d64b89a9",
   "metadata": {},
   "outputs": [],
   "source": []
  }
 ],
 "metadata": {
  "kernelspec": {
   "display_name": "Python 3 (ipykernel)",
   "language": "python",
   "name": "python3"
  },
  "language_info": {
   "codemirror_mode": {
    "name": "ipython",
    "version": 3
   },
   "file_extension": ".py",
   "mimetype": "text/x-python",
   "name": "python",
   "nbconvert_exporter": "python",
   "pygments_lexer": "ipython3",
   "version": "3.10.6"
  }
 },
 "nbformat": 4,
 "nbformat_minor": 5
}
